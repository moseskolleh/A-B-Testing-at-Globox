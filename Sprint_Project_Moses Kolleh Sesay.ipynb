{
 "cells": [
  {
   "cell_type": "markdown",
   "metadata": {},
   "source": [
    "## Overview\n",
    "This notebook presents a comprehensive analysis of Globox's A/B testing data, focusing on key metrics like conversion rate and average amount spent per user. The primary objective is to evaluate the effectiveness of a new banner and make an informed decision on whether it should be launched across the platform.\n",
    "\n",
    "### Data Description\n",
    "The dataset is rich with insights, encompassing various aspects of user behavior and characteristics during the A/B test:\n",
    "\n",
    "- **User Demographics:** Includes country and gender of the users.\n",
    "- **Device Information:** Details the type of device used by each user.\n",
    "- **Group Assignment:** Users are categorized into two groups - Group A (Control) and Group B (Treatment).\n",
    "- **User Engagement Metrics:**\n",
    "   - **Conversion Status:** Indicates whether users engaged in a conversion action.\n",
    "   - **Amount Spent:** Reflects the total expenditure by each user, serving as a key metric for assessing user spending behavior and the economic impact of the banner.\n",
    "\n",
    "### Analysis Outline\n",
    "The analytical approach is structured and multifaceted, covering the following critical areas:\n",
    "\n",
    "1. **Hypothesis Testing for Conversion Rate:**\n",
    "   - Examining the effect of the banner on user conversion rates between Group A and Group B.\n",
    "   - Determining the statistical significance of differences in conversion rates.\n",
    "\n",
    "2. **Confidence Intervals for Conversion Rate Difference:**\n",
    "   - Calculating the 95% confidence interval to estimate the true difference in conversion rates.\n",
    "\n",
    "3. **Hypothesis Testing for Average Amount Spent per User:**\n",
    "   - Analyzing the influence of the banner on users' average spending.\n",
    "   - Assessing the statistical relevance of any differences in spending patterns between the groups.\n",
    "\n",
    "4. **Confidence Intervals for Average Amount Spent Difference:**\n",
    "   - Estimating the variability in the difference of average amount spent between the two groups through confidence intervals.\n",
    "\n",
    "5. **Novelty Effect Analysis:**\n",
    "   - Investigating potential novelty effects to understand the initial user reaction to the banner.\n",
    "\n",
    "This detailed analytical approach will provide robust insights for a data-driven decision on the banner's potential launch.\n"
   ]
  },
  {
   "cell_type": "markdown",
   "id": "ddc39dfe",
   "metadata": {},
   "source": [
    "\n",
    "# Question 1: Hypothesis Testing for Conversion Rate\n",
    "\n",
    "## Objective\n",
    "To test whether there is a statistically significant difference in the conversion rates \n",
    "between two groups (A and B) in the provided dataset.\n",
    "\n",
    "## Hypotheses\n",
    "- **Null Hypothesis ($H_0$):** There is no difference in the mean conversion rate between group A and group B.\n",
    "  \n",
    "  $\\mu_A = \\mu_B$\n",
    "- **Alternative Hypothesis ($H_a$):** There is a difference in the mean conversion rate between group A and group B.\n",
    "  \n",
    "  $\\mu_A \\neq \\mu_B$\n",
    "\n",
    "Where:\n",
    "- $\\mu_A$ is the mean conversion rate of group A.\n",
    "- $\\mu_B$ is the mean conversion rate of group B.\n",
    "\n",
    "## Significance Level\n",
    "- $\\alpha = 0.05$\n"
   ]
  },
  {
   "cell_type": "code",
   "execution_count": 5,
   "id": "ed6b3bf1",
   "metadata": {},
   "outputs": [
    {
     "data": {
      "text/plain": [
       "(0.03923099042845993,\n",
       " 0.04630081300813008,\n",
       " -3.8664058066425353,\n",
       " 0.00011059442123932611)"
      ]
     },
     "execution_count": 5,
     "metadata": {},
     "output_type": "execute_result"
    }
   ],
   "source": [
    "# Load the necessary libraries\n",
    "import pandas as pd\n",
    "from scipy.stats import ttest_ind\n",
    "\n",
    "# Load the data\n",
    "data_path = '/Users/air/Desktop/MasterSchool/Project_final/Data_Sprint1_project.csv'  # Update the path accordingly\n",
    "data = pd.read_csv(data_path)\n",
    "\n",
    "# Extracting conversion rates for groups A and B\n",
    "conv_rate_A = data[data[\"Test_Group\"] == \"A\"][\"Conversion_Rate\"]\n",
    "conv_rate_B = data[data[\"Test_Group\"] == \"B\"][\"Conversion_Rate\"]\n",
    "\n",
    "# Calculating means\n",
    "mean_A = conv_rate_A.mean()\n",
    "mean_B = conv_rate_B.mean()\n",
    "\n",
    "# Performing a two-sample t-test\n",
    "t_stat, p_value = ttest_ind(conv_rate_A, conv_rate_B, equal_var=False)\n",
    "\n",
    "(mean_A, mean_B, t_stat, p_value)\n"
   ]
  },
  {
   "cell_type": "markdown",
   "id": "aad8cb86",
   "metadata": {},
   "source": [
    "\n",
    "## Conclusion\n",
    "\n",
    "After calculating the p-value from the t-test, a decision based on the comparison of the p-value \n",
    "and the significance level ($\\alpha$).\n",
    "\n",
    "### Decision Rule\n",
    "- If p-value $< \\alpha$: Reject the null hypothesis ($H_0$).\n",
    "- If p-value $\\geq \\alpha$: Fail to reject the null hypothesis.\n"
   ]
  },
  {
   "cell_type": "markdown",
   "id": "fa8afb3a",
   "metadata": {},
   "source": [
    "# Results and Conclusion\n",
    "\n",
    "## Results\n",
    "\n",
    "### Group A:\n",
    "- **Mean conversion rate:** \\(0.0392\\) or \\(3.92\\%\\)\n",
    "\n",
    "### Group B:\n",
    "- **Mean conversion rate:** \\(0.0463\\) or \\(4.63\\%\\)\n",
    "\n",
    "## Hypothesis Test Results\n",
    "- **T-statistic:** \\(-3.87\\)\n",
    "- **P-value:** \\(0.00011\\)\n",
    "\n",
    "## Conclusion\n",
    "\n",
    "Given our significance level \\(\\alpha = 0.05\\), since the p-value (\\(0.00011\\)) is less than \\(\\alpha\\), we reject the null hypothesis \\(H_0\\). This indicates that there is a statistically significant difference in the mean conversion rates between groups A and B.\n",
    "\n",
    "Despite the statistical significance, it is essential to evaluate whether this difference is practically significant, considering the specific context and business objectives. Furthermore, additional analyses could be conducted to understand the impact of other variables on conversion rate and ensure that the observed differences are due to the groupings (A/B) and not some other factor.\n"
   ]
  },
  {
   "cell_type": "markdown",
   "id": "4be94133",
   "metadata": {},
   "source": [
    "# Question 2: Confidence Interval for Difference in Conversion Rates\n",
    "\n",
    "## Objective\n",
    "To calculate the 95% confidence interval for the difference in conversion rates between the treatment and control groups.\n",
    "\n",
    "## Methodology\n",
    "The 95% confidence interval for the difference in conversion rates (mean values) between two groups can be estimated using the formula:\n",
    "\n",
    "\\[ CI = (\bar{x}_B - \bar{x}_A) \\pm t \times SE \\]\n",
    "\n",
    "where:\n",
    "- \\( \bar{x}_B \\) and \\( \bar{x}_A \\) are the sample means of groups B and A, respectively.\n",
    "- \\( t \\) is the t-value for our confidence level (for a 95% confidence interval and assuming a normal distribution, \\( t \\) is approximately 1.96, given the large sample size).\n",
    "- SE is the standard error of the difference between the two means, calculated as:\n",
    "\n",
    "\\[ SE = \\sqrt{ \\left( \f\n",
    "rac{s_B^2}{n_B} \n",
    "ight) + \\left( \f\n",
    "rac{s_A^2}{n_A} \n",
    "ight) } \\]\n",
    "\n",
    "where:\n",
    "- \\( s_B \\) and \\( s_A \\) are the standard deviations of groups B and A, respectively.\n",
    "- \\( n_B \\) and \\( n_A \\) are the sample sizes of groups B and A, respectively.\n",
    "\n",
    "Let's calculate the 95% confidence interval for the difference in conversion rates between the treatment (B) and control (A) groups.\n"
   ]
  },
  {
   "cell_type": "code",
   "execution_count": 6,
   "id": "0e6c4b31",
   "metadata": {},
   "outputs": [
    {
     "data": {
      "text/plain": [
       "(0.0034859121085170103, 0.0106537330508233)"
      ]
     },
     "execution_count": 6,
     "metadata": {},
     "output_type": "execute_result"
    }
   ],
   "source": [
    "import math\n",
    "# Extracting conversion rates for groups A and B\n",
    "conv_rate_A = data[data[\"Test_Group\"] == \"A\"][\"Conversion_Rate\"]\n",
    "conv_rate_B = data[data[\"Test_Group\"] == \"B\"][\"Conversion_Rate\"]\n",
    "\n",
    "# Calculating means and standard deviations\n",
    "mean_A, mean_B = conv_rate_A.mean(), conv_rate_B.mean()\n",
    "std_A, std_B = conv_rate_A.std(), conv_rate_B.std()\n",
    "\n",
    "# Sample sizes\n",
    "n_A, n_B = len(conv_rate_A), len(conv_rate_B)\n",
    "\n",
    "# Standard error of the difference between means\n",
    "SE = math.sqrt((std_B**2 / n_B) + (std_A**2 / n_A))\n",
    "\n",
    "# t-value for 95% confidence interval (two-tailed)\n",
    "t_value = 1.96\n",
    "\n",
    "# Confidence interval\n",
    "lower_bound = (mean_B - mean_A) - t_value * SE\n",
    "upper_bound = (mean_B - mean_A) + t_value * SE\n",
    "\n",
    "(lower_bound, upper_bound)"
   ]
  },
  {
   "cell_type": "markdown",
   "id": "0102f274",
   "metadata": {},
   "source": [
    "## Conclusion\n",
    "\n",
    "The 95% confidence interval for the difference in conversion rates between the treatment group (B) and the control group (A) is calculated above.\n",
    "\n",
    "This interval provides a range of plausible values for the true difference in conversion rates between the two groups, given our data. If the confidence interval does not contain zero, it indicates that there is a statistically significant difference in conversion rates between the two groups at the 95% confidence level. Always consider this interval in the context of practical significance and the specific use-case scenario.\n",
    "\n",
    "If you have further analyses or questions, feel free to ask!"
   ]
  },
  {
   "cell_type": "markdown",
   "id": "58632629",
   "metadata": {},
   "source": [
    "# Question 3: Hypothesis Testing for Average Amount Spent per User Between Two Groups\n",
    "\n",
    "This analysis aims to conduct a hypothesis test to determine whether there is a difference in the average amount spent per user between two groups. We will use the t-distribution and assume a 5% significance level, considering unequal variance.\n",
    "\n",
    "## Steps\n",
    "1. **Determine the Null and Alternative Hypothesis**\n",
    "2. **Determine the Type of Test**\n",
    "3. **Calculate the Test Statistic**\n",
    "4. **Calculate the p-value**\n",
    "5. **Draw a Conclusion about the Hypothesis**\n",
    "\n",
    "Let's start by loading the dataset and examining its structure.\n",
    "    "
   ]
  },
  {
   "cell_type": "markdown",
   "id": "7d2d11b2",
   "metadata": {},
   "source": [
    "## Step 1: Determine the Null and Alternative Hypothesis\n",
    "\n",
    "Before performing the hypothesis test, we need to establish the null and alternative hypotheses.\n",
    "\n",
    "- **Null Hypothesis (\\(H_0\\))**: The average amount spent per user is the same for both groups (Group A and Group B).\n",
    "- **Alternative Hypothesis (\\(H_1\\))**: The average amount spent per user is different for the two groups.\n",
    "\n",
    "## Step 2: Determine the Type of Test\n",
    "\n",
    "We will use a two-sample t-test for unequal variances, also known as Welch's t-test. This is appropriate because we are comparing the means of two independent groups and do not assume equal variances."
   ]
  },
  {
   "cell_type": "code",
   "execution_count": 7,
   "id": "5f1d5a02",
   "metadata": {},
   "outputs": [
    {
     "data": {
      "text/plain": [
       "(-0.07042501611591226, 0.9438556687127899)"
      ]
     },
     "execution_count": 7,
     "metadata": {},
     "output_type": "execute_result"
    }
   ],
   "source": [
    "from scipy import stats\n",
    "\n",
    "# Filter the data for the two groups\n",
    "group_a = data[data['Test_Group'] == 'A']['Total_Amount_Spent']\n",
    "group_b = data[data['Test_Group'] == 'B']['Total_Amount_Spent']\n",
    "\n",
    "# Perform Welch's t-test\n",
    "t_statistic, p_value = stats.ttest_ind(group_a, group_b, equal_var=False)\n",
    "\n",
    "t_statistic, p_value"
   ]
  },
  {
   "cell_type": "markdown",
   "id": "31109e8e",
   "metadata": {},
   "source": [
    "## Step 3: Calculate the Test Statistic\n",
    "\n",
    "The test statistic (t-value) obtained from Welch's t-test is \\(-0.0704\\). This value indicates the number of standard deviations the sample mean is from the null hypothesis.\n",
    "\n",
    "## Step 4: Calculate the p-value\n",
    "\n",
    "The p-value associated with the t-statistic is \\(0.9439\\). This value represents the probability of observing a test statistic as extreme as, or more extreme than, the observed value under the null hypothesis.\n",
    "\n",
    "## Step 5: Draw a Conclusion about the Hypothesis\n",
    "\n",
    "Given a significance level of 5% (\\(0.05\\)), the p-value of \\(0.9439\\) is much larger than \\(0.05\\). This means we do not have sufficient evidence to reject the null hypothesis.\n",
    "\n",
    "**Conclusion:** We fail to reject the null hypothesis. Based on the data provided, there is no statistically significant difference in the average amount spent per user between the two groups (Group A and Group B).\n",
    "    "
   ]
  },
  {
   "cell_type": "markdown",
   "id": "41ad94e5",
   "metadata": {},
   "source": [
    "# Question 4: 95% Confidence Interval for the Difference in Average Amount Spent\n",
    "\n",
    "This analysis calculates the 95% confidence interval for the difference in the average amount spent per user between the treatment and control groups. We'll use the t-distribution and assume unequal variances.\n",
    "\n",
    "## Steps\n",
    "1. **Determine the Type of Interval**\n",
    "2. **Calculate the Sample Statistic**\n",
    "3. **Calculate the Standard Error**\n",
    "4. **Calculate the Critical Value**\n",
    "5. **Construct the Interval**\n",
    "\n",
    "Let's proceed with these steps using the data."
   ]
  },
  {
   "cell_type": "code",
   "execution_count": 8,
   "id": "cceecb88",
   "metadata": {},
   "outputs": [
    {
     "data": {
      "text/plain": [
       "(0.016348503076092147,\n",
       " 0.232140565636282,\n",
       " 1.9600125038846983,\n",
       " (-0.4386499082298871, 0.4713469143820714))"
      ]
     },
     "execution_count": 8,
     "metadata": {},
     "output_type": "execute_result"
    }
   ],
   "source": [
    "import numpy as np\n",
    "from scipy import stats\n",
    "\n",
    "# Assuming the data has already been loaded and filtered for Group A and Group B\n",
    "# Group A (control) and Group B (treatment) data have been stored in variables group_a and group_b\n",
    "\n",
    "# Step 2: Calculate the Sample Statistic (Difference in sample means)\n",
    "mean_diff = np.mean(group_b) - np.mean(group_a)\n",
    "\n",
    "# Step 3: Calculate the Standard Error for the difference in means\n",
    "n_a = len(group_a)\n",
    "n_b = len(group_b)\n",
    "std_a = np.std(group_a, ddof=1)\n",
    "std_b = np.std(group_b, ddof=1)\n",
    "\n",
    "se_diff = np.sqrt(std_a**2/n_a + std_b**2/n_b)\n",
    "\n",
    "# Step 4: Calculate the Critical Value (t-value for 95% confidence)\n",
    "# Degrees of freedom for unequal variances (Welch-Satterthwaite equation)\n",
    "df = (std_a**2/n_a + std_b**2/n_b)**2 / ((std_a**2/n_a)**2/(n_a-1) + (std_b**2/n_b)**2/(n_b-1))\n",
    "\n",
    "critical_value = stats.t.ppf(0.975, df)  # 2-tailed test, so we use 0.975 to get the upper tail\n",
    "\n",
    "# Step 5: Construct the Interval\n",
    "margin_of_error = critical_value * se_diff\n",
    "conf_interval = (mean_diff - margin_of_error, mean_diff + margin_of_error)\n",
    "\n",
    "mean_diff, se_diff, critical_value, conf_interval\n",
    "    "
   ]
  },
  {
   "cell_type": "markdown",
   "id": "f84d9163",
   "metadata": {},
   "source": [
    "## Interpretation\n",
    "\n",
    "The 95% confidence interval for the difference in the average amount spent per user between the treatment (Group B) and control (Group A) is approximately \\((-0.439, 0.471)\\).\n",
    "\n",
    "This confidence interval suggests that, with 95% confidence, the difference in the average amount spent per user between the treatment and control groups is estimated to be between \\(-0.439\\) and \\(0.471\\). Since the interval includes zero, it indicates that there's no statistically significant difference in the average amount spent per user between the two groups at the 95% confidence level."
   ]
  },
  {
   "cell_type": "markdown",
   "id": "4fdfe2c3",
   "metadata": {},
   "source": [
    "# Novelty Effect Assessment"
   ]
  },
  {
   "cell_type": "markdown",
   "id": "842f18bb",
   "metadata": {},
   "source": [
    "## Overview\n",
    "This notebook presents an analysis of external validity for a study comparing two groups (A and B) based on conversion rates and the average amount spent per user. The goal is to assess how well the results of this study can be generalized to other settings, populations, or times.\n",
    "\n",
    "### Data Description\n",
    "The dataset contains information about users, including their country, gender, device type, test group (A or B), conversion status, and total amount spent.\n",
    "\n",
    "### Steps in Analysis\n",
    "1. Analyze the demographic composition of the study participants (country and gender distributions) to assess representativeness.\n",
    "2. Analyze the distribution of device types to assess representativeness.\n",
    "3. Analyze the distribution of total amount spent to assess representativeness.\n",
    "4. Analyze the distribution of conversion rates to assess representativeness.\n",
    "\n"
   ]
  },
  {
   "cell_type": "code",
   "execution_count": 9,
   "id": "b6b407f4",
   "metadata": {},
   "outputs": [
    {
     "data": {
      "text/plain": [
       "USA    30.583851\n",
       "BRA    19.532091\n",
       "MEX    11.879917\n",
       "DEU     7.979296\n",
       "TUR     7.726708\n",
       "FRA     6.397516\n",
       "GBR     6.105590\n",
       "ESP     4.126294\n",
       "CAN     3.250518\n",
       "AUS     2.418219\n",
       "Name: country, dtype: float64"
      ]
     },
     "execution_count": 9,
     "metadata": {},
     "output_type": "execute_result"
    }
   ],
   "source": [
    "# Analyze the demographic composition of the study participants\n",
    "\n",
    "# Country distribution\n",
    "country_distribution = data['country'].value_counts(normalize=True) * 100\n",
    "\n",
    "country_distribution"
   ]
  },
  {
   "cell_type": "code",
   "execution_count": 11,
   "id": "611c87ba",
   "metadata": {},
   "outputs": [
    {
     "data": {
      "text/plain": [
       "M    48.206140\n",
       "F    47.828360\n",
       "O     3.965501\n",
       "Name: Gender, dtype: float64"
      ]
     },
     "execution_count": 11,
     "metadata": {},
     "output_type": "execute_result"
    }
   ],
   "source": [
    "# Gender distribution\n",
    "gender_distribution = data['Gender'].value_counts(normalize=True) * 100\n",
    "\n",
    "gender_distribution"
   ]
  },
  {
   "cell_type": "markdown",
   "metadata": {},
   "source": [
    "## Power Analysis\n",
    "This section is dedicated to performing the power analysis. We calculate the required sample size to detect a specified Minimum Detectable Effect (MDE) for both the conversion rate and the average amount spent. We use a two-sample proportion test for the conversion rate and a two-sample t-test for the average amount spent."
   ]
  },
  {
   "cell_type": "code",
   "execution_count": 15,
   "metadata": {},
   "outputs": [],
   "source": [
    "import pandas as pd\n",
    "#!pip install statsmodels\n",
    "from statsmodels.stats.power import TTestIndPower, NormalIndPower\n",
    "import numpy as np"
   ]
  },
  {
   "cell_type": "code",
   "execution_count": 16,
   "metadata": {},
   "outputs": [
    {
     "data": {
      "text/html": [
       "<div>\n",
       "<style scoped>\n",
       "    .dataframe tbody tr th:only-of-type {\n",
       "        vertical-align: middle;\n",
       "    }\n",
       "\n",
       "    .dataframe tbody tr th {\n",
       "        vertical-align: top;\n",
       "    }\n",
       "\n",
       "    .dataframe thead th {\n",
       "        text-align: right;\n",
       "    }\n",
       "</style>\n",
       "<table border=\"1\" class=\"dataframe\">\n",
       "  <thead>\n",
       "    <tr style=\"text-align: right;\">\n",
       "      <th></th>\n",
       "      <th>user_id</th>\n",
       "      <th>country</th>\n",
       "      <th>Gender</th>\n",
       "      <th>Device_Type</th>\n",
       "      <th>Test_Group</th>\n",
       "      <th>Conversion_Rate</th>\n",
       "      <th>Total_Amount_Spent</th>\n",
       "    </tr>\n",
       "  </thead>\n",
       "  <tbody>\n",
       "    <tr>\n",
       "      <th>0</th>\n",
       "      <td>1000039</td>\n",
       "      <td>GBR</td>\n",
       "      <td>F</td>\n",
       "      <td>A</td>\n",
       "      <td>B</td>\n",
       "      <td>1</td>\n",
       "      <td>36.65</td>\n",
       "    </tr>\n",
       "    <tr>\n",
       "      <th>1</th>\n",
       "      <td>1000045</td>\n",
       "      <td>USA</td>\n",
       "      <td>F</td>\n",
       "      <td>I</td>\n",
       "      <td>B</td>\n",
       "      <td>1</td>\n",
       "      <td>51.58</td>\n",
       "    </tr>\n",
       "    <tr>\n",
       "      <th>2</th>\n",
       "      <td>1000071</td>\n",
       "      <td>USA</td>\n",
       "      <td>F</td>\n",
       "      <td>I</td>\n",
       "      <td>B</td>\n",
       "      <td>1</td>\n",
       "      <td>6.71</td>\n",
       "    </tr>\n",
       "    <tr>\n",
       "      <th>3</th>\n",
       "      <td>1000101</td>\n",
       "      <td>MEX</td>\n",
       "      <td>F</td>\n",
       "      <td>A</td>\n",
       "      <td>B</td>\n",
       "      <td>1</td>\n",
       "      <td>23.80</td>\n",
       "    </tr>\n",
       "    <tr>\n",
       "      <th>4</th>\n",
       "      <td>1000123</td>\n",
       "      <td>DEU</td>\n",
       "      <td>NaN</td>\n",
       "      <td>I</td>\n",
       "      <td>B</td>\n",
       "      <td>1</td>\n",
       "      <td>100.74</td>\n",
       "    </tr>\n",
       "  </tbody>\n",
       "</table>\n",
       "</div>"
      ],
      "text/plain": [
       "   user_id country Gender Device_Type Test_Group  Conversion_Rate  \\\n",
       "0  1000039     GBR      F           A          B                1   \n",
       "1  1000045     USA      F           I          B                1   \n",
       "2  1000071     USA      F           I          B                1   \n",
       "3  1000101     MEX      F           A          B                1   \n",
       "4  1000123     DEU    NaN           I          B                1   \n",
       "\n",
       "   Total_Amount_Spent  \n",
       "0               36.65  \n",
       "1               51.58  \n",
       "2                6.71  \n",
       "3               23.80  \n",
       "4              100.74  "
      ]
     },
     "execution_count": 16,
     "metadata": {},
     "output_type": "execute_result"
    }
   ],
   "source": [
    "# Load the dataset\n",
    "file_path = '/Users/air/Desktop/MasterSchool/Project_final/Data_Sprint1_project.csv'  # Replace with actual file path\n",
    "data = pd.read_csv(file_path)\n",
    "\n",
    "# Display the first few rows of the dataframe\n",
    "data.head()"
   ]
  },
  {
   "cell_type": "markdown",
   "metadata": {},
   "source": [
    "## Group Calculations\n",
    "We segregate the data into control and test groups to calculate the baseline metrics. The metrics of interest are the conversion rate and average amount spent for both control and test groups. These calculations provide a foundation for the power analysis."
   ]
  },
  {
   "cell_type": "code",
   "execution_count": 20,
   "metadata": {},
   "outputs": [
    {
     "data": {
      "text/html": [
       "<div>\n",
       "<style scoped>\n",
       "    .dataframe tbody tr th:only-of-type {\n",
       "        vertical-align: middle;\n",
       "    }\n",
       "\n",
       "    .dataframe tbody tr th {\n",
       "        vertical-align: top;\n",
       "    }\n",
       "\n",
       "    .dataframe thead th {\n",
       "        text-align: right;\n",
       "    }\n",
       "</style>\n",
       "<table border=\"1\" class=\"dataframe\">\n",
       "  <thead>\n",
       "    <tr style=\"text-align: right;\">\n",
       "      <th></th>\n",
       "      <th>Group A: Control</th>\n",
       "      <th>Group B: Test</th>\n",
       "    </tr>\n",
       "    <tr>\n",
       "      <th>Metric</th>\n",
       "      <th></th>\n",
       "      <th></th>\n",
       "    </tr>\n",
       "  </thead>\n",
       "  <tbody>\n",
       "    <tr>\n",
       "      <th>Conversion Rate</th>\n",
       "      <td>0.039231</td>\n",
       "      <td>0.046301</td>\n",
       "    </tr>\n",
       "    <tr>\n",
       "      <th>Average Amount Spent</th>\n",
       "      <td>3.374518</td>\n",
       "      <td>3.390867</td>\n",
       "    </tr>\n",
       "  </tbody>\n",
       "</table>\n",
       "</div>"
      ],
      "text/plain": [
       "                      Group A: Control  Group B: Test\n",
       "Metric                                               \n",
       "Conversion Rate               0.039231       0.046301\n",
       "Average Amount Spent          3.374518       3.390867"
      ]
     },
     "execution_count": 20,
     "metadata": {},
     "output_type": "execute_result"
    }
   ],
   "source": [
    "# Segregating the data into control and test groups\n",
    "control_group = data[data['Test_Group'] == 'A']\n",
    "test_group = data[data['Test_Group'] == 'B']\n",
    "\n",
    "# Calculating the baseline metrics for the control group\n",
    "control_conversion_rate = control_group['Conversion_Rate'].mean()\n",
    "control_avg_amount_spent = control_group['Total_Amount_Spent'].mean()\n",
    "\n",
    "# Calculating the metrics for the test group\n",
    "test_conversion_rate = test_group['Conversion_Rate'].mean()\n",
    "test_avg_amount_spent = test_group['Total_Amount_Spent'].mean()\n",
    "\n",
    "# Preparing a summary of the metrics\n",
    "metrics_summary = pd.DataFrame({\n",
    "    \"Metric\": [\"Conversion Rate\", \"Average Amount Spent\"],\n",
    "    \"Group A: Control\": [control_conversion_rate, control_avg_amount_spent],\n",
    "    \"Group B: Test\": [test_conversion_rate, test_avg_amount_spent]\n",
    "})\n",
    "metrics_summary.set_index(\"Metric\", inplace=True)\n",
    "metrics_summary"
   ]
  },
  {
   "cell_type": "code",
   "execution_count": 21,
   "metadata": {},
   "outputs": [
    {
     "data": {
      "text/html": [
       "<div>\n",
       "<style scoped>\n",
       "    .dataframe tbody tr th:only-of-type {\n",
       "        vertical-align: middle;\n",
       "    }\n",
       "\n",
       "    .dataframe tbody tr th {\n",
       "        vertical-align: top;\n",
       "    }\n",
       "\n",
       "    .dataframe thead th {\n",
       "        text-align: right;\n",
       "    }\n",
       "</style>\n",
       "<table border=\"1\" class=\"dataframe\">\n",
       "  <thead>\n",
       "    <tr style=\"text-align: right;\">\n",
       "      <th></th>\n",
       "      <th>Required Sample Size</th>\n",
       "    </tr>\n",
       "    <tr>\n",
       "      <th>Metric</th>\n",
       "      <th></th>\n",
       "    </tr>\n",
       "  </thead>\n",
       "  <tbody>\n",
       "    <tr>\n",
       "      <th>Conversion Rate</th>\n",
       "      <td>38443.800962</td>\n",
       "    </tr>\n",
       "    <tr>\n",
       "      <th>Average Amount Spent</th>\n",
       "      <td>92733.493100</td>\n",
       "    </tr>\n",
       "  </tbody>\n",
       "</table>\n",
       "</div>"
      ],
      "text/plain": [
       "                      Required Sample Size\n",
       "Metric                                    \n",
       "Conversion Rate               38443.800962\n",
       "Average Amount Spent          92733.493100"
      ]
     },
     "execution_count": 21,
     "metadata": {},
     "output_type": "execute_result"
    }
   ],
   "source": [
    "# Parameters for the power analysis\n",
    "alpha = 0.05  # Significance level\n",
    "power = 0.80  # Statistical power\n",
    "mde_relative = 0.10  # Minimum Detectable Effect (10% relative change)\n",
    "\n",
    "# Calculating the absolute MDE for conversion rate and average amount spent\n",
    "mde_conversion_rate = control_conversion_rate * mde_relative\n",
    "mde_avg_amount_spent = control_avg_amount_spent * mde_relative\n",
    "\n",
    "# Power analysis for conversion rate (two-sample proportion test)\n",
    "effect_size_conversion_rate = NormalIndPower().solve_power(\n",
    "    effect_size=(mde_conversion_rate / np.sqrt(control_conversion_rate * (1 - control_conversion_rate))),\n",
    "    alpha=alpha,\n",
    "    power=power,\n",
    "    ratio=1  # Equal size for control and test groups\n",
    ")\n",
    "\n",
    "# Power analysis for average amount spent (two-sample t-test)\n",
    "effect_size_avg_amount_spent = TTestIndPower().solve_power(\n",
    "    effect_size=(mde_avg_amount_spent / control_group['Total_Amount_Spent'].std()),\n",
    "    alpha=alpha,\n",
    "    power=power,\n",
    "    ratio=1,  # Equal size for control and test groups\n",
    "    alternative='two-sided'\n",
    ")\n",
    "\n",
    "required_sample_size = pd.DataFrame({\n",
    "    \"Metric\": [\"Conversion Rate\", \"Average Amount Spent\"],\n",
    "    \"Required Sample Size\": [effect_size_conversion_rate, effect_size_avg_amount_spent]\n",
    "})\n",
    "required_sample_size.set_index(\"Metric\", inplace=True)\n",
    "required_sample_size"
   ]
  },
  {
   "cell_type": "markdown",
   "metadata": {},
   "source": [
    "\n",
    "## Current Sample Sizes\n",
    "Here, we calculate and compare the current sample sizes of the control and test groups with the required sample sizes obtained from the power analysis. This comparison helps us understand if the current sample sizes are sufficient for the A/B test.\n"
   ]
  },
  {
   "cell_type": "code",
   "execution_count": 22,
   "metadata": {},
   "outputs": [
    {
     "data": {
      "text/html": [
       "<div>\n",
       "<style scoped>\n",
       "    .dataframe tbody tr th:only-of-type {\n",
       "        vertical-align: middle;\n",
       "    }\n",
       "\n",
       "    .dataframe tbody tr th {\n",
       "        vertical-align: top;\n",
       "    }\n",
       "\n",
       "    .dataframe thead th {\n",
       "        text-align: right;\n",
       "    }\n",
       "</style>\n",
       "<table border=\"1\" class=\"dataframe\">\n",
       "  <thead>\n",
       "    <tr style=\"text-align: right;\">\n",
       "      <th></th>\n",
       "      <th>Current Sample Size</th>\n",
       "    </tr>\n",
       "    <tr>\n",
       "      <th>Group</th>\n",
       "      <th></th>\n",
       "    </tr>\n",
       "  </thead>\n",
       "  <tbody>\n",
       "    <tr>\n",
       "      <th>Control Group</th>\n",
       "      <td>24343</td>\n",
       "    </tr>\n",
       "    <tr>\n",
       "      <th>Test Group</th>\n",
       "      <td>24600</td>\n",
       "    </tr>\n",
       "  </tbody>\n",
       "</table>\n",
       "</div>"
      ],
      "text/plain": [
       "               Current Sample Size\n",
       "Group                             \n",
       "Control Group                24343\n",
       "Test Group                   24600"
      ]
     },
     "execution_count": 22,
     "metadata": {},
     "output_type": "execute_result"
    }
   ],
   "source": [
    "# Calculating the current sample sizes for control and test groups\n",
    "current_sample_size_control = control_group.shape[0]\n",
    "current_sample_size_test = test_group.shape[0]\n",
    "\n",
    "current_sample_sizes = pd.DataFrame({\n",
    "    \"Group\": [\"Control Group\", \"Test Group\"],\n",
    "    \"Current Sample Size\": [current_sample_size_control, current_sample_size_test]\n",
    "})\n",
    "current_sample_sizes.set_index(\"Group\", inplace=True)\n",
    "current_sample_sizes\n"
   ]
  },
  {
   "cell_type": "markdown",
   "metadata": {},
   "source": [
    "## Interpretations of Results\n",
    "Based on our analysis, we observe the following:\n",
    "- The required sample size to detect a 10% relative change in conversion rate is approximately 38,444 participants per group, which is higher than the current sample sizes in both control and test groups.\n",
    "- For the average amount spent, the required sample size is about 92,734 participants per group, which is significantly higher than our current sample sizes.\n",
    "\n",
    "These findings suggest that the current sample sizes may not be sufficient to reliably detect the intended effects in both conversion rate and average amount spent with the desired statistical power and significance level."
   ]
  },
  {
   "cell_type": "markdown",
   "metadata": {},
   "source": [
    "## Recommendations\n",
    "Given the results of our power analysis, we recommend the following:\n",
    "1. Increase the sample size for both metrics to meet the identified thresholds. This will enhance the statistical power of the test and the reliability of its results.\n",
    "2. Consider extending the duration of the test to accumulate a larger sample size.\n",
    "3. If increasing the sample size is not feasible, reconsider the MDE or adjust the desired level of statistical power.\n",
    "4. Perform a post-hoc power analysis after the completion of the test to assess the actual power achieved with the current sample sizes."
   ]
  }
 ],
 "metadata": {
  "kernelspec": {
   "display_name": "geos",
   "language": "python",
   "name": "python3"
  },
  "language_info": {
   "codemirror_mode": {
    "name": "ipython",
    "version": 3
   },
   "file_extension": ".py",
   "mimetype": "text/x-python",
   "name": "python",
   "nbconvert_exporter": "python",
   "pygments_lexer": "ipython3",
   "version": "3.9.16"
  }
 },
 "nbformat": 4,
 "nbformat_minor": 5
}
